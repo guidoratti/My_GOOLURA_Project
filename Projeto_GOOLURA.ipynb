{
  "nbformat": 4,
  "nbformat_minor": 0,
  "metadata": {
    "colab": {
      "provenance": [],
      "authorship_tag": "ABX9TyNEfoHR7b/HEXsVMoeqVcj4",
      "include_colab_link": true
    },
    "kernelspec": {
      "name": "python3",
      "display_name": "Python 3"
    },
    "language_info": {
      "name": "python"
    }
  },
  "cells": [
    {
      "cell_type": "markdown",
      "metadata": {
        "id": "view-in-github",
        "colab_type": "text"
      },
      "source": [
        "<a href=\"https://colab.research.google.com/github/guidoratti/My_GOOLURA_Project/blob/main/Projeto_GOOLURA.ipynb\" target=\"_parent\"><img src=\"https://colab.research.google.com/assets/colab-badge.svg\" alt=\"Open In Colab\"/></a>"
      ]
    },
    {
      "cell_type": "markdown",
      "source": [
        "Meu Projeto de imersão em IA (GOOLURA)"
      ],
      "metadata": {
        "id": "6p4HMuGQOCFF"
      }
    },
    {
      "cell_type": "code",
      "source": [
        "!pip install -q -U google-generativeai #instala a SDK do google\n"
      ],
      "metadata": {
        "id": "YxjW0KGqOH71"
      },
      "execution_count": 3,
      "outputs": []
    },
    {
      "cell_type": "code",
      "source": [
        "import google.generativeai as genai\n",
        "\n",
        "#puxa minha chave secreta de colab\n",
        "from google.colab import userdata\n",
        "api_key = userdata.get('SECRET_KEY')\n",
        "genai.configure(api_key=api_key)\n",
        "\n",
        "#carrega o modelo de AI e as configurações de segurança do modelo\n",
        "model = genai.GenerativeModel(model_name='gemini-1.0-pro')"
      ],
      "metadata": {
        "id": "xwWGwC0ZOS9k"
      },
      "execution_count": 9,
      "outputs": []
    },
    {
      "cell_type": "code",
      "source": [],
      "metadata": {
        "id": "M2OPQZJtOYMz"
      },
      "execution_count": null,
      "outputs": []
    }
  ]
}